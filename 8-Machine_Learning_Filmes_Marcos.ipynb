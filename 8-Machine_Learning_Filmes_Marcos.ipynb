{
 "cells": [
  {
   "cell_type": "markdown",
   "metadata": {},
   "source": [
    "## Este exercício refere-se a um estudo de caso feito como trabalho de casa.\n",
    "\n",
    "## Identificar em uma lista de filmes os melhores a serem adquiridos pela sua produtora. Levando-se em conta o orçamento e a nota obtida pelo filme nas redes sociais pelas pessoas, os filmes mais indicados são aqueles de baixo orçamento e score alto.\n",
    "\n",
    "## Executar uma machine learning para identificar esses filmes para o arquivo do ano de 2016. O ML será treinado e testado com um arquivo de dados até 2015."
   ]
  },
  {
   "cell_type": "code",
   "execution_count": 1,
   "metadata": {},
   "outputs": [],
   "source": [
    "import pandas as pd\n",
    "import numpy as np"
   ]
  },
  {
   "cell_type": "markdown",
   "metadata": {},
   "source": [
    "# 1 - Importando os dados"
   ]
  },
  {
   "cell_type": "code",
   "execution_count": 2,
   "metadata": {},
   "outputs": [],
   "source": [
    "df_raw = pd.read_csv(\"./Dados/imdb_train.zip\")"
   ]
  },
  {
   "cell_type": "code",
   "execution_count": 3,
   "metadata": {},
   "outputs": [],
   "source": [
    "# criando cópia do dataframe.\n",
    "df = df_raw.copy(deep=True)"
   ]
  },
  {
   "cell_type": "code",
   "execution_count": 4,
   "metadata": {},
   "outputs": [
    {
     "data": {
      "text/plain": [
       "['Unnamed: 0',\n",
       " 'color',\n",
       " 'director_name',\n",
       " 'num_critic_for_reviews',\n",
       " 'duration',\n",
       " 'director_facebook_likes',\n",
       " 'actor_3_facebook_likes',\n",
       " 'actor_2_name',\n",
       " 'actor_1_facebook_likes',\n",
       " 'gross',\n",
       " 'genres',\n",
       " 'actor_1_name',\n",
       " 'movie_title',\n",
       " 'num_voted_users',\n",
       " 'cast_total_facebook_likes',\n",
       " 'actor_3_name',\n",
       " 'facenumber_in_poster',\n",
       " 'plot_keywords',\n",
       " 'movie_imdb_link',\n",
       " 'num_user_for_reviews',\n",
       " 'language',\n",
       " 'country',\n",
       " 'content_rating',\n",
       " 'budget',\n",
       " 'title_year',\n",
       " 'actor_2_facebook_likes',\n",
       " 'imdb_score',\n",
       " 'aspect_ratio',\n",
       " 'movie_facebook_likes']"
      ]
     },
     "execution_count": 4,
     "metadata": {},
     "output_type": "execute_result"
    }
   ],
   "source": [
    "list(df) #olhando as variáveis"
   ]
  },
  {
   "cell_type": "markdown",
   "metadata": {},
   "source": [
    "# 2 - Tratando os dados"
   ]
  },
  {
   "cell_type": "code",
   "execution_count": 5,
   "metadata": {},
   "outputs": [],
   "source": [
    "columns_to_drop = ['Unnamed: 0', 'gross', 'movie_title', 'plot_keywords'] #determinando algumas colunas para serem apagadas"
   ]
  },
  {
   "cell_type": "code",
   "execution_count": 6,
   "metadata": {},
   "outputs": [],
   "source": [
    "df = df_raw.drop(columns_to_drop, axis=1) #apagando"
   ]
  },
  {
   "cell_type": "code",
   "execution_count": 7,
   "metadata": {},
   "outputs": [],
   "source": [
    "# criando um dataset apenas com colunas numéricas.\n",
    "df_numeric = df.select_dtypes(include=[np.number]) \n",
    "numericas = list(df_numeric)"
   ]
  },
  {
   "cell_type": "code",
   "execution_count": 8,
   "metadata": {},
   "outputs": [],
   "source": [
    "df[numericas] = df[numericas].fillna(df.mean())#Tratando os nulos"
   ]
  },
  {
   "cell_type": "code",
   "execution_count": 9,
   "metadata": {},
   "outputs": [
    {
     "data": {
      "text/plain": [
       "(4937, 25)"
      ]
     },
     "execution_count": 9,
     "metadata": {},
     "output_type": "execute_result"
    }
   ],
   "source": [
    "df = df.fillna('na') # substitui os dados faltantes por 'na'\n",
    "df = df.dropna() \n",
    "df.shape"
   ]
  },
  {
   "cell_type": "markdown",
   "metadata": {},
   "source": [
    "# 3 - Criando dummies para as variáveis categóricas"
   ]
  },
  {
   "cell_type": "code",
   "execution_count": 10,
   "metadata": {},
   "outputs": [],
   "source": [
    "n_dummies = df[\"genres\"].str.get_dummies(\"|\") #criando coluna dos generos individualmente, lendo o conteúdo da string"
   ]
  },
  {
   "cell_type": "code",
   "execution_count": 11,
   "metadata": {},
   "outputs": [
    {
     "data": {
      "text/html": [
       "<div>\n",
       "<style scoped>\n",
       "    .dataframe tbody tr th:only-of-type {\n",
       "        vertical-align: middle;\n",
       "    }\n",
       "\n",
       "    .dataframe tbody tr th {\n",
       "        vertical-align: top;\n",
       "    }\n",
       "\n",
       "    .dataframe thead th {\n",
       "        text-align: right;\n",
       "    }\n",
       "</style>\n",
       "<table border=\"1\" class=\"dataframe\">\n",
       "  <thead>\n",
       "    <tr style=\"text-align: right;\">\n",
       "      <th></th>\n",
       "      <th>Action</th>\n",
       "      <th>Adventure</th>\n",
       "      <th>Animation</th>\n",
       "      <th>Biography</th>\n",
       "      <th>Comedy</th>\n",
       "      <th>Crime</th>\n",
       "      <th>Documentary</th>\n",
       "      <th>Drama</th>\n",
       "      <th>Family</th>\n",
       "      <th>Fantasy</th>\n",
       "      <th>...</th>\n",
       "      <th>Mystery</th>\n",
       "      <th>News</th>\n",
       "      <th>Reality-TV</th>\n",
       "      <th>Romance</th>\n",
       "      <th>Sci-Fi</th>\n",
       "      <th>Short</th>\n",
       "      <th>Sport</th>\n",
       "      <th>Thriller</th>\n",
       "      <th>War</th>\n",
       "      <th>Western</th>\n",
       "    </tr>\n",
       "  </thead>\n",
       "  <tbody>\n",
       "    <tr>\n",
       "      <th>0</th>\n",
       "      <td>1</td>\n",
       "      <td>1</td>\n",
       "      <td>0</td>\n",
       "      <td>0</td>\n",
       "      <td>0</td>\n",
       "      <td>0</td>\n",
       "      <td>0</td>\n",
       "      <td>0</td>\n",
       "      <td>0</td>\n",
       "      <td>1</td>\n",
       "      <td>...</td>\n",
       "      <td>0</td>\n",
       "      <td>0</td>\n",
       "      <td>0</td>\n",
       "      <td>0</td>\n",
       "      <td>1</td>\n",
       "      <td>0</td>\n",
       "      <td>0</td>\n",
       "      <td>0</td>\n",
       "      <td>0</td>\n",
       "      <td>0</td>\n",
       "    </tr>\n",
       "    <tr>\n",
       "      <th>1</th>\n",
       "      <td>1</td>\n",
       "      <td>1</td>\n",
       "      <td>0</td>\n",
       "      <td>0</td>\n",
       "      <td>0</td>\n",
       "      <td>0</td>\n",
       "      <td>0</td>\n",
       "      <td>0</td>\n",
       "      <td>0</td>\n",
       "      <td>1</td>\n",
       "      <td>...</td>\n",
       "      <td>0</td>\n",
       "      <td>0</td>\n",
       "      <td>0</td>\n",
       "      <td>0</td>\n",
       "      <td>0</td>\n",
       "      <td>0</td>\n",
       "      <td>0</td>\n",
       "      <td>0</td>\n",
       "      <td>0</td>\n",
       "      <td>0</td>\n",
       "    </tr>\n",
       "    <tr>\n",
       "      <th>2</th>\n",
       "      <td>1</td>\n",
       "      <td>1</td>\n",
       "      <td>0</td>\n",
       "      <td>0</td>\n",
       "      <td>0</td>\n",
       "      <td>0</td>\n",
       "      <td>0</td>\n",
       "      <td>0</td>\n",
       "      <td>0</td>\n",
       "      <td>0</td>\n",
       "      <td>...</td>\n",
       "      <td>0</td>\n",
       "      <td>0</td>\n",
       "      <td>0</td>\n",
       "      <td>0</td>\n",
       "      <td>0</td>\n",
       "      <td>0</td>\n",
       "      <td>0</td>\n",
       "      <td>1</td>\n",
       "      <td>0</td>\n",
       "      <td>0</td>\n",
       "    </tr>\n",
       "    <tr>\n",
       "      <th>3</th>\n",
       "      <td>1</td>\n",
       "      <td>0</td>\n",
       "      <td>0</td>\n",
       "      <td>0</td>\n",
       "      <td>0</td>\n",
       "      <td>0</td>\n",
       "      <td>0</td>\n",
       "      <td>0</td>\n",
       "      <td>0</td>\n",
       "      <td>0</td>\n",
       "      <td>...</td>\n",
       "      <td>0</td>\n",
       "      <td>0</td>\n",
       "      <td>0</td>\n",
       "      <td>0</td>\n",
       "      <td>0</td>\n",
       "      <td>0</td>\n",
       "      <td>0</td>\n",
       "      <td>1</td>\n",
       "      <td>0</td>\n",
       "      <td>0</td>\n",
       "    </tr>\n",
       "    <tr>\n",
       "      <th>4</th>\n",
       "      <td>0</td>\n",
       "      <td>0</td>\n",
       "      <td>0</td>\n",
       "      <td>0</td>\n",
       "      <td>0</td>\n",
       "      <td>0</td>\n",
       "      <td>1</td>\n",
       "      <td>0</td>\n",
       "      <td>0</td>\n",
       "      <td>0</td>\n",
       "      <td>...</td>\n",
       "      <td>0</td>\n",
       "      <td>0</td>\n",
       "      <td>0</td>\n",
       "      <td>0</td>\n",
       "      <td>0</td>\n",
       "      <td>0</td>\n",
       "      <td>0</td>\n",
       "      <td>0</td>\n",
       "      <td>0</td>\n",
       "      <td>0</td>\n",
       "    </tr>\n",
       "  </tbody>\n",
       "</table>\n",
       "<p>5 rows × 26 columns</p>\n",
       "</div>"
      ],
      "text/plain": [
       "   Action  Adventure  Animation  Biography  Comedy  Crime  Documentary  Drama  \\\n",
       "0       1          1          0          0       0      0            0      0   \n",
       "1       1          1          0          0       0      0            0      0   \n",
       "2       1          1          0          0       0      0            0      0   \n",
       "3       1          0          0          0       0      0            0      0   \n",
       "4       0          0          0          0       0      0            1      0   \n",
       "\n",
       "   Family  Fantasy   ...     Mystery  News  Reality-TV  Romance  Sci-Fi  \\\n",
       "0       0        1   ...           0     0           0        0       1   \n",
       "1       0        1   ...           0     0           0        0       0   \n",
       "2       0        0   ...           0     0           0        0       0   \n",
       "3       0        0   ...           0     0           0        0       0   \n",
       "4       0        0   ...           0     0           0        0       0   \n",
       "\n",
       "   Short  Sport  Thriller  War  Western  \n",
       "0      0      0         0    0        0  \n",
       "1      0      0         0    0        0  \n",
       "2      0      0         1    0        0  \n",
       "3      0      0         1    0        0  \n",
       "4      0      0         0    0        0  \n",
       "\n",
       "[5 rows x 26 columns]"
      ]
     },
     "execution_count": 11,
     "metadata": {},
     "output_type": "execute_result"
    }
   ],
   "source": [
    "n_dummies.head()"
   ]
  },
  {
   "cell_type": "code",
   "execution_count": 12,
   "metadata": {},
   "outputs": [
    {
     "data": {
      "text/html": [
       "<div>\n",
       "<style scoped>\n",
       "    .dataframe tbody tr th:only-of-type {\n",
       "        vertical-align: middle;\n",
       "    }\n",
       "\n",
       "    .dataframe tbody tr th {\n",
       "        vertical-align: top;\n",
       "    }\n",
       "\n",
       "    .dataframe thead th {\n",
       "        text-align: right;\n",
       "    }\n",
       "</style>\n",
       "<table border=\"1\" class=\"dataframe\">\n",
       "  <thead>\n",
       "    <tr style=\"text-align: right;\">\n",
       "      <th></th>\n",
       "      <th>color</th>\n",
       "      <th>director_name</th>\n",
       "      <th>num_critic_for_reviews</th>\n",
       "      <th>duration</th>\n",
       "      <th>director_facebook_likes</th>\n",
       "      <th>actor_3_facebook_likes</th>\n",
       "      <th>actor_2_name</th>\n",
       "      <th>actor_1_facebook_likes</th>\n",
       "      <th>genres</th>\n",
       "      <th>actor_1_name</th>\n",
       "      <th>...</th>\n",
       "      <th>Mystery</th>\n",
       "      <th>News</th>\n",
       "      <th>Reality-TV</th>\n",
       "      <th>Romance</th>\n",
       "      <th>Sci-Fi</th>\n",
       "      <th>Short</th>\n",
       "      <th>Sport</th>\n",
       "      <th>Thriller</th>\n",
       "      <th>War</th>\n",
       "      <th>Western</th>\n",
       "    </tr>\n",
       "  </thead>\n",
       "  <tbody>\n",
       "    <tr>\n",
       "      <th>0</th>\n",
       "      <td>Color</td>\n",
       "      <td>James Cameron</td>\n",
       "      <td>723.00000</td>\n",
       "      <td>178.00000</td>\n",
       "      <td>0.0</td>\n",
       "      <td>855.000000</td>\n",
       "      <td>Joel David Moore</td>\n",
       "      <td>1000.0</td>\n",
       "      <td>Action|Adventure|Fantasy|Sci-Fi</td>\n",
       "      <td>CCH Pounder</td>\n",
       "      <td>...</td>\n",
       "      <td>0</td>\n",
       "      <td>0</td>\n",
       "      <td>0</td>\n",
       "      <td>0</td>\n",
       "      <td>1</td>\n",
       "      <td>0</td>\n",
       "      <td>0</td>\n",
       "      <td>0</td>\n",
       "      <td>0</td>\n",
       "      <td>0</td>\n",
       "    </tr>\n",
       "    <tr>\n",
       "      <th>1</th>\n",
       "      <td>Color</td>\n",
       "      <td>Gore Verbinski</td>\n",
       "      <td>302.00000</td>\n",
       "      <td>169.00000</td>\n",
       "      <td>563.0</td>\n",
       "      <td>1000.000000</td>\n",
       "      <td>Orlando Bloom</td>\n",
       "      <td>40000.0</td>\n",
       "      <td>Action|Adventure|Fantasy</td>\n",
       "      <td>Johnny Depp</td>\n",
       "      <td>...</td>\n",
       "      <td>0</td>\n",
       "      <td>0</td>\n",
       "      <td>0</td>\n",
       "      <td>0</td>\n",
       "      <td>0</td>\n",
       "      <td>0</td>\n",
       "      <td>0</td>\n",
       "      <td>0</td>\n",
       "      <td>0</td>\n",
       "      <td>0</td>\n",
       "    </tr>\n",
       "    <tr>\n",
       "      <th>2</th>\n",
       "      <td>Color</td>\n",
       "      <td>Sam Mendes</td>\n",
       "      <td>602.00000</td>\n",
       "      <td>148.00000</td>\n",
       "      <td>0.0</td>\n",
       "      <td>161.000000</td>\n",
       "      <td>Rory Kinnear</td>\n",
       "      <td>11000.0</td>\n",
       "      <td>Action|Adventure|Thriller</td>\n",
       "      <td>Christoph Waltz</td>\n",
       "      <td>...</td>\n",
       "      <td>0</td>\n",
       "      <td>0</td>\n",
       "      <td>0</td>\n",
       "      <td>0</td>\n",
       "      <td>0</td>\n",
       "      <td>0</td>\n",
       "      <td>0</td>\n",
       "      <td>1</td>\n",
       "      <td>0</td>\n",
       "      <td>0</td>\n",
       "    </tr>\n",
       "    <tr>\n",
       "      <th>3</th>\n",
       "      <td>Color</td>\n",
       "      <td>Christopher Nolan</td>\n",
       "      <td>813.00000</td>\n",
       "      <td>164.00000</td>\n",
       "      <td>22000.0</td>\n",
       "      <td>23000.000000</td>\n",
       "      <td>Christian Bale</td>\n",
       "      <td>27000.0</td>\n",
       "      <td>Action|Thriller</td>\n",
       "      <td>Tom Hardy</td>\n",
       "      <td>...</td>\n",
       "      <td>0</td>\n",
       "      <td>0</td>\n",
       "      <td>0</td>\n",
       "      <td>0</td>\n",
       "      <td>0</td>\n",
       "      <td>0</td>\n",
       "      <td>0</td>\n",
       "      <td>1</td>\n",
       "      <td>0</td>\n",
       "      <td>0</td>\n",
       "    </tr>\n",
       "    <tr>\n",
       "      <th>4</th>\n",
       "      <td>na</td>\n",
       "      <td>Doug Walker</td>\n",
       "      <td>139.92657</td>\n",
       "      <td>107.14872</td>\n",
       "      <td>131.0</td>\n",
       "      <td>644.082621</td>\n",
       "      <td>Rob Walker</td>\n",
       "      <td>131.0</td>\n",
       "      <td>Documentary</td>\n",
       "      <td>Doug Walker</td>\n",
       "      <td>...</td>\n",
       "      <td>0</td>\n",
       "      <td>0</td>\n",
       "      <td>0</td>\n",
       "      <td>0</td>\n",
       "      <td>0</td>\n",
       "      <td>0</td>\n",
       "      <td>0</td>\n",
       "      <td>0</td>\n",
       "      <td>0</td>\n",
       "      <td>0</td>\n",
       "    </tr>\n",
       "  </tbody>\n",
       "</table>\n",
       "<p>5 rows × 51 columns</p>\n",
       "</div>"
      ],
      "text/plain": [
       "   color      director_name  num_critic_for_reviews   duration  \\\n",
       "0  Color      James Cameron               723.00000  178.00000   \n",
       "1  Color     Gore Verbinski               302.00000  169.00000   \n",
       "2  Color         Sam Mendes               602.00000  148.00000   \n",
       "3  Color  Christopher Nolan               813.00000  164.00000   \n",
       "4     na        Doug Walker               139.92657  107.14872   \n",
       "\n",
       "   director_facebook_likes  actor_3_facebook_likes      actor_2_name  \\\n",
       "0                      0.0              855.000000  Joel David Moore   \n",
       "1                    563.0             1000.000000     Orlando Bloom   \n",
       "2                      0.0              161.000000      Rory Kinnear   \n",
       "3                  22000.0            23000.000000    Christian Bale   \n",
       "4                    131.0              644.082621        Rob Walker   \n",
       "\n",
       "   actor_1_facebook_likes                           genres     actor_1_name  \\\n",
       "0                  1000.0  Action|Adventure|Fantasy|Sci-Fi      CCH Pounder   \n",
       "1                 40000.0         Action|Adventure|Fantasy      Johnny Depp   \n",
       "2                 11000.0        Action|Adventure|Thriller  Christoph Waltz   \n",
       "3                 27000.0                  Action|Thriller        Tom Hardy   \n",
       "4                   131.0                      Documentary      Doug Walker   \n",
       "\n",
       "    ...     Mystery  News Reality-TV  Romance Sci-Fi  Short Sport Thriller  \\\n",
       "0   ...           0     0          0        0      1      0     0        0   \n",
       "1   ...           0     0          0        0      0      0     0        0   \n",
       "2   ...           0     0          0        0      0      0     0        1   \n",
       "3   ...           0     0          0        0      0      0     0        1   \n",
       "4   ...           0     0          0        0      0      0     0        0   \n",
       "\n",
       "  War  Western  \n",
       "0   0        0  \n",
       "1   0        0  \n",
       "2   0        0  \n",
       "3   0        0  \n",
       "4   0        0  \n",
       "\n",
       "[5 rows x 51 columns]"
      ]
     },
     "execution_count": 12,
     "metadata": {},
     "output_type": "execute_result"
    }
   ],
   "source": [
    "df = df.join(n_dummies) #concatenando\n",
    "df.head()"
   ]
  },
  {
   "cell_type": "code",
   "execution_count": 13,
   "metadata": {},
   "outputs": [
    {
     "data": {
      "text/plain": [
       "(4937, 51)"
      ]
     },
     "execution_count": 13,
     "metadata": {},
     "output_type": "execute_result"
    }
   ],
   "source": [
    "df.shape"
   ]
  },
  {
   "cell_type": "markdown",
   "metadata": {},
   "source": [
    "# 4 - Treinando o modelo de Machine Learning\n",
    "\n",
    "Algorítmo: Supervisionado -> Regressão\n",
    "\n",
    "Supervisionado - para prever uma variável contínua, no exemplo, as notas do público aos filmes.\n",
    "\n",
    "Regressão - as notas são uma variável numérica e dependentes entre si, a nota seguinte é a anterior mais 1.\n",
    "\n",
    "Passos:\n",
    "\n",
    "    1) Importar o modelo desejado.\n",
    "    2) Instanciar em uma variável com os parâmetros desejados (ainda não vimos os parâmetros).\n",
    "    3) Separar nossos dados em variáveis explicativas (X) e explicadas/target (Y)\n",
    "    4) Separar nossos dados em Treino e Teste\n",
    "    5) Treinar o Modelo com o .fit()\n",
    "    6) Analisar as métricas, se não estiver boas, voltamos aos passos anteriores de trabalhar com as variáveis.\n",
    "    7) Estando tudo ok, rodamos previsões"
   ]
  },
  {
   "cell_type": "markdown",
   "metadata": {},
   "source": [
    "__4.1 - Importar o modelo__"
   ]
  },
  {
   "cell_type": "code",
   "execution_count": 14,
   "metadata": {},
   "outputs": [],
   "source": [
    "#modelos escolhidos\n",
    "\n",
    "from sklearn.ensemble import RandomForestRegressor\n",
    "from sklearn.linear_model import LinearRegression\n",
    "from sklearn.ensemble import GradientBoostingRegressor"
   ]
  },
  {
   "cell_type": "markdown",
   "metadata": {},
   "source": [
    "__4.2 - Instanciar em uma variável os parâmetros desejados__"
   ]
  },
  {
   "cell_type": "code",
   "execution_count": 15,
   "metadata": {},
   "outputs": [],
   "source": [
    "modelo_MQO = LinearRegression()\n",
    "modelo_RF = RandomForestRegressor()\n",
    "modelo_gradient = GradientBoostingRegressor()"
   ]
  },
  {
   "cell_type": "markdown",
   "metadata": {},
   "source": [
    "__4.3 - Separar os dados em variáveis explicativas X e explicadas/target Y__"
   ]
  },
  {
   "cell_type": "code",
   "execution_count": 16,
   "metadata": {},
   "outputs": [],
   "source": [
    "df_numeric = df.select_dtypes(include=[np.number]) \n",
    "numericas = list(df_numeric)"
   ]
  },
  {
   "cell_type": "code",
   "execution_count": 17,
   "metadata": {},
   "outputs": [
    {
     "data": {
      "text/plain": [
       "['num_critic_for_reviews',\n",
       " 'duration',\n",
       " 'director_facebook_likes',\n",
       " 'actor_3_facebook_likes',\n",
       " 'actor_1_facebook_likes',\n",
       " 'num_voted_users',\n",
       " 'cast_total_facebook_likes',\n",
       " 'facenumber_in_poster',\n",
       " 'num_user_for_reviews',\n",
       " 'budget',\n",
       " 'title_year',\n",
       " 'actor_2_facebook_likes',\n",
       " 'imdb_score',\n",
       " 'aspect_ratio',\n",
       " 'movie_facebook_likes',\n",
       " 'Action',\n",
       " 'Adventure',\n",
       " 'Animation',\n",
       " 'Biography',\n",
       " 'Comedy',\n",
       " 'Crime',\n",
       " 'Documentary',\n",
       " 'Drama',\n",
       " 'Family',\n",
       " 'Fantasy',\n",
       " 'Film-Noir',\n",
       " 'Game-Show',\n",
       " 'History',\n",
       " 'Horror',\n",
       " 'Music',\n",
       " 'Musical',\n",
       " 'Mystery',\n",
       " 'News',\n",
       " 'Reality-TV',\n",
       " 'Romance',\n",
       " 'Sci-Fi',\n",
       " 'Short',\n",
       " 'Sport',\n",
       " 'Thriller',\n",
       " 'War',\n",
       " 'Western']"
      ]
     },
     "execution_count": 17,
     "metadata": {},
     "output_type": "execute_result"
    }
   ],
   "source": [
    "numericas"
   ]
  },
  {
   "cell_type": "code",
   "execution_count": 18,
   "metadata": {},
   "outputs": [
    {
     "data": {
      "text/plain": [
       "num_critic_for_reviews       0.303987\n",
       "duration                     0.261837\n",
       "director_facebook_likes      0.168952\n",
       "actor_3_facebook_likes       0.052178\n",
       "actor_1_facebook_likes       0.069684\n",
       "num_voted_users              0.414215\n",
       "cast_total_facebook_likes    0.079983\n",
       "facenumber_in_poster        -0.058702\n",
       "num_user_for_reviews         0.294641\n",
       "budget                       0.027775\n",
       "title_year                  -0.209660\n",
       "actor_2_facebook_likes       0.082535\n",
       "imdb_score                   1.000000\n",
       "aspect_ratio                 0.059623\n",
       "movie_facebook_likes         0.249753\n",
       "Action                      -0.101180\n",
       "Adventure                   -0.007090\n",
       "Animation                    0.025362\n",
       "Biography                    0.158382\n",
       "Comedy                      -0.171390\n",
       "Crime                        0.051645\n",
       "Documentary                  0.103933\n",
       "Drama                        0.297136\n",
       "Family                      -0.063174\n",
       "Fantasy                     -0.045948\n",
       "Film-Noir                    0.036934\n",
       "Game-Show                   -0.044861\n",
       "History                      0.119438\n",
       "Horror                      -0.194479\n",
       "Music                       -0.006804\n",
       "Musical                      0.008474\n",
       "Mystery                      0.012149\n",
       "News                         0.023915\n",
       "Reality-TV                  -0.030319\n",
       "Romance                      0.004120\n",
       "Sci-Fi                      -0.058308\n",
       "Short                       -0.001786\n",
       "Sport                        0.027696\n",
       "Thriller                    -0.074934\n",
       "War                          0.116334\n",
       "Western                      0.032056\n",
       "Name: imdb_score, dtype: float64"
      ]
     },
     "execution_count": 18,
     "metadata": {},
     "output_type": "execute_result"
    }
   ],
   "source": [
    "df.corr()['imdb_score']"
   ]
  },
  {
   "cell_type": "code",
   "execution_count": 19,
   "metadata": {},
   "outputs": [],
   "source": [
    "#criando o x e o y\n",
    "X = df[numericas].drop(['imdb_score'], axis = 1)\n",
    "y = df['imdb_score']"
   ]
  },
  {
   "cell_type": "markdown",
   "metadata": {},
   "source": [
    "__4.4 - Separar dados em Treino e Teste__"
   ]
  },
  {
   "cell_type": "code",
   "execution_count": 20,
   "metadata": {},
   "outputs": [],
   "source": [
    "from sklearn.model_selection import train_test_split"
   ]
  },
  {
   "cell_type": "code",
   "execution_count": 21,
   "metadata": {},
   "outputs": [],
   "source": [
    "X_train, X_test, y_train, y_test = train_test_split(X,y,test_size=0.25)"
   ]
  },
  {
   "cell_type": "code",
   "execution_count": 22,
   "metadata": {},
   "outputs": [
    {
     "data": {
      "text/plain": [
       "(3702, 40)"
      ]
     },
     "execution_count": 22,
     "metadata": {},
     "output_type": "execute_result"
    }
   ],
   "source": [
    "X_train.shape"
   ]
  },
  {
   "cell_type": "code",
   "execution_count": 23,
   "metadata": {},
   "outputs": [
    {
     "data": {
      "text/plain": [
       "(3702,)"
      ]
     },
     "execution_count": 23,
     "metadata": {},
     "output_type": "execute_result"
    }
   ],
   "source": [
    "y_train.shape"
   ]
  },
  {
   "cell_type": "markdown",
   "metadata": {},
   "source": [
    "__4.5 - Treinar o modelo com o .fit()__\n",
    "\n",
    "__Modelo Linear__"
   ]
  },
  {
   "cell_type": "code",
   "execution_count": 24,
   "metadata": {},
   "outputs": [
    {
     "data": {
      "text/plain": [
       "LinearRegression(copy_X=True, fit_intercept=True, n_jobs=None,\n",
       "         normalize=False)"
      ]
     },
     "execution_count": 24,
     "metadata": {},
     "output_type": "execute_result"
    }
   ],
   "source": [
    "modelo_MQO.fit(X_train, y_train)"
   ]
  },
  {
   "cell_type": "code",
   "execution_count": 25,
   "metadata": {},
   "outputs": [
    {
     "data": {
      "text/plain": [
       "array([ 2.98993907e-03,  1.48029639e-03, -1.68910075e-06,  2.43505610e-05,\n",
       "        4.12611760e-05,  3.21653209e-06, -4.07259288e-05, -1.93250567e-02,\n",
       "       -4.18012769e-04,  2.27829049e-11, -2.62183486e-02,  3.74095268e-05,\n",
       "        9.01220006e-02, -3.04177757e-06, -2.18292961e-01, -1.03059431e-01,\n",
       "        5.64586657e-01,  2.81692915e-01, -1.11137196e-01,  8.36088654e-02,\n",
       "        1.26628036e+00,  5.56039558e-01, -1.28305065e-01, -5.57278409e-02,\n",
       "       -1.26161699e-01, -3.19845888e+00,  6.09769638e-02, -3.98695802e-01,\n",
       "       -1.46512077e-01, -9.34120393e-02,  9.88836407e-02,  4.91745557e-01,\n",
       "        3.33203994e-01, -8.90505221e-02, -1.14797139e-01,  5.48870677e-01,\n",
       "        8.66549154e-05, -1.99176838e-01,  7.49792467e-02, -1.97042368e-02])"
      ]
     },
     "execution_count": 25,
     "metadata": {},
     "output_type": "execute_result"
    }
   ],
   "source": [
    "modelo_MQO.coef_"
   ]
  },
  {
   "cell_type": "markdown",
   "metadata": {},
   "source": [
    "__Modelo Gradient__"
   ]
  },
  {
   "cell_type": "code",
   "execution_count": 26,
   "metadata": {},
   "outputs": [],
   "source": [
    "modelo_gradient = GradientBoostingRegressor(max_depth=3)"
   ]
  },
  {
   "cell_type": "code",
   "execution_count": 27,
   "metadata": {},
   "outputs": [
    {
     "data": {
      "text/plain": [
       "GradientBoostingRegressor(alpha=0.9, criterion='friedman_mse', init=None,\n",
       "             learning_rate=0.1, loss='ls', max_depth=3, max_features=None,\n",
       "             max_leaf_nodes=None, min_impurity_decrease=0.0,\n",
       "             min_impurity_split=None, min_samples_leaf=1,\n",
       "             min_samples_split=2, min_weight_fraction_leaf=0.0,\n",
       "             n_estimators=100, n_iter_no_change=None, presort='auto',\n",
       "             random_state=None, subsample=1.0, tol=0.0001,\n",
       "             validation_fraction=0.1, verbose=0, warm_start=False)"
      ]
     },
     "execution_count": 27,
     "metadata": {},
     "output_type": "execute_result"
    }
   ],
   "source": [
    "modelo_gradient.fit(X_train, y_train)"
   ]
  },
  {
   "cell_type": "markdown",
   "metadata": {},
   "source": [
    "__Modelo Random Forest__"
   ]
  },
  {
   "cell_type": "code",
   "execution_count": 28,
   "metadata": {},
   "outputs": [
    {
     "name": "stderr",
     "output_type": "stream",
     "text": [
      "C:\\Users\\Marcos\\Anaconda3\\lib\\site-packages\\sklearn\\ensemble\\forest.py:246: FutureWarning: The default value of n_estimators will change from 10 in version 0.20 to 100 in 0.22.\n",
      "  \"10 in version 0.20 to 100 in 0.22.\", FutureWarning)\n"
     ]
    },
    {
     "data": {
      "text/plain": [
       "RandomForestRegressor(bootstrap=True, criterion='mse', max_depth=None,\n",
       "           max_features='auto', max_leaf_nodes=None,\n",
       "           min_impurity_decrease=0.0, min_impurity_split=None,\n",
       "           min_samples_leaf=1, min_samples_split=2,\n",
       "           min_weight_fraction_leaf=0.0, n_estimators=10, n_jobs=None,\n",
       "           oob_score=False, random_state=None, verbose=0, warm_start=False)"
      ]
     },
     "execution_count": 28,
     "metadata": {},
     "output_type": "execute_result"
    }
   ],
   "source": [
    "modelo_RF.fit(X_train, y_train)"
   ]
  },
  {
   "cell_type": "markdown",
   "metadata": {},
   "source": [
    "__4.6 - Analisando as métricas__"
   ]
  },
  {
   "cell_type": "code",
   "execution_count": 29,
   "metadata": {},
   "outputs": [
    {
     "data": {
      "text/plain": [
       "0.45385715929980913"
      ]
     },
     "execution_count": 29,
     "metadata": {},
     "output_type": "execute_result"
    }
   ],
   "source": [
    "modelo_MQO.score(X_train, y_train)"
   ]
  },
  {
   "cell_type": "code",
   "execution_count": 30,
   "metadata": {},
   "outputs": [
    {
     "data": {
      "text/plain": [
       "0.4090410809428301"
      ]
     },
     "execution_count": 30,
     "metadata": {},
     "output_type": "execute_result"
    }
   ],
   "source": [
    "modelo_MQO.score(X_test, y_test)"
   ]
  },
  {
   "cell_type": "code",
   "execution_count": 31,
   "metadata": {},
   "outputs": [
    {
     "data": {
      "text/plain": [
       "0.6737391827565984"
      ]
     },
     "execution_count": 31,
     "metadata": {},
     "output_type": "execute_result"
    }
   ],
   "source": [
    "modelo_gradient.score(X_train, y_train)"
   ]
  },
  {
   "cell_type": "code",
   "execution_count": 32,
   "metadata": {},
   "outputs": [
    {
     "data": {
      "text/plain": [
       "0.5321711399452512"
      ]
     },
     "execution_count": 32,
     "metadata": {},
     "output_type": "execute_result"
    }
   ],
   "source": [
    "modelo_gradient.score(X_test, y_test)"
   ]
  },
  {
   "cell_type": "code",
   "execution_count": 33,
   "metadata": {},
   "outputs": [
    {
     "data": {
      "text/plain": [
       "0.9152811813186713"
      ]
     },
     "execution_count": 33,
     "metadata": {},
     "output_type": "execute_result"
    }
   ],
   "source": [
    "modelo_RF.score(X_train, y_train)"
   ]
  },
  {
   "cell_type": "code",
   "execution_count": 34,
   "metadata": {},
   "outputs": [
    {
     "data": {
      "text/plain": [
       "0.4960036846491905"
      ]
     },
     "execution_count": 34,
     "metadata": {},
     "output_type": "execute_result"
    }
   ],
   "source": [
    "modelo_RF.score(X_test, y_test)"
   ]
  },
  {
   "cell_type": "code",
   "execution_count": 35,
   "metadata": {},
   "outputs": [],
   "source": [
    "df['yhat'] = modelo_gradient.predict(X)"
   ]
  },
  {
   "cell_type": "code",
   "execution_count": 36,
   "metadata": {},
   "outputs": [],
   "source": [
    "df['erro'] = df['yhat'] - df['imdb_score']"
   ]
  },
  {
   "cell_type": "code",
   "execution_count": 37,
   "metadata": {},
   "outputs": [
    {
     "data": {
      "text/plain": [
       "<matplotlib.axes._subplots.AxesSubplot at 0x1ecdf85b898>"
      ]
     },
     "execution_count": 37,
     "metadata": {},
     "output_type": "execute_result"
    },
    {
     "data": {
      "image/png": "[encoded data removed]",
      "text/plain": [
       "<Figure size 432x288 with 1 Axes>"
      ]
     },
     "metadata": {
      "needs_background": "light"
     },
     "output_type": "display_data"
    }
   ],
   "source": [
    "%matplotlib inline\n",
    "df['erro'].plot.hist(bins=50)"
   ]
  },
  {
   "cell_type": "code",
   "execution_count": 38,
   "metadata": {},
   "outputs": [],
   "source": [
    "#importando as bibliotecas para medir o MSE (erros médios quadráticos) e o MAE (erros médios absolutos)\n",
    "\n",
    "from sklearn.metrics import mean_squared_error, r2_score, median_absolute_error"
   ]
  },
  {
   "cell_type": "code",
   "execution_count": 39,
   "metadata": {},
   "outputs": [
    {
     "name": "stdout",
     "output_type": "stream",
     "text": [
      "TREINO - MSE: 0.6927150269005381 MAE: 0.47138523671547006 R2: 0.4538571592998092\n",
      "TESTE - MSE: 0.7382613301161235 MAE: 0.48013559051332955 R2: 0.4538571592998092\n"
     ]
    }
   ],
   "source": [
    "# primeiro modelo - regressão linear\n",
    "yhat_train = modelo_MQO.predict(X_train) # previsao dos dados de treino para calcular as métricas\n",
    "yhat_test = modelo_MQO.predict(X_test) # previsao dos dados de teste para calcular métricas\n",
    "\n",
    "print('TREINO - MSE:', mean_squared_error(y_train, yhat_train), 'MAE:', median_absolute_error(y_train, yhat_train),'R2:', r2_score(y_train, yhat_train))\n",
    "print('TESTE - MSE:', mean_squared_error(y_test, yhat_test), 'MAE:', median_absolute_error(y_test, yhat_test), 'R2:', r2_score(y_train, yhat_train))"
   ]
  },
  {
   "cell_type": "code",
   "execution_count": 40,
   "metadata": {},
   "outputs": [
    {
     "name": "stdout",
     "output_type": "stream",
     "text": [
      "TREINO - MSE: 0.4138217219941955 MAE: 0.3504460683977437 R2: 0.6737391827565984\n",
      "TESTE - MSE - test 0.584439874503893 MAE - test 0.39760625586365617 R2 - test 0.5321711399452512\n"
     ]
    }
   ],
   "source": [
    "# segundo modelo -  gradient\n",
    "yhat_train = modelo_gradient.predict(X_train) # previsao dos dados de treino para calcular as métricas\n",
    "yhat_test = modelo_gradient.predict(X_test) # previsao dos dados de teste para calcular métricas\n",
    "\n",
    "print('TREINO - MSE:', mean_squared_error(y_train, yhat_train), 'MAE:', median_absolute_error(y_train, yhat_train), 'R2:', r2_score(y_train, yhat_train))\n",
    "print('TESTE - MSE - test', mean_squared_error(y_test, yhat_test), 'MAE - test', median_absolute_error(y_test, yhat_test),'R2 - test',r2_score(y_test, yhat_test))\n"
   ]
  },
  {
   "cell_type": "code",
   "execution_count": 41,
   "metadata": {},
   "outputs": [
    {
     "name": "stdout",
     "output_type": "stream",
     "text": [
      "TREINO - MSE: 0.10745540248514317 MAE: 0.14999999999999858 R2: 0.9152811813186713\n",
      "TESTE - MSE - test 0.6296224291497975 MAE - test 0.40999999999999925 R2 - test 0.4960036846491904\n"
     ]
    }
   ],
   "source": [
    "# terceiro modelo -  random forest\n",
    "yhat_train = modelo_RF.predict(X_train) # previsao dos dados de treino para calcular as métricas\n",
    "yhat_test = modelo_RF.predict(X_test) # previsao dos dados de teste para calcular métricas\n",
    "\n",
    "print('TREINO - MSE:', mean_squared_error(y_train, yhat_train), 'MAE:', median_absolute_error(y_train, yhat_train), 'R2:', r2_score(y_train, yhat_train))\n",
    "print('TESTE - MSE - test', mean_squared_error(y_test, yhat_test), 'MAE - test', median_absolute_error(y_test, yhat_test),'R2 - test',r2_score(y_test, yhat_test))\n"
   ]
  },
  {
   "cell_type": "code",
   "execution_count": 42,
   "metadata": {},
   "outputs": [],
   "source": [
    "from sklearn.model_selection import cross_val_score"
   ]
  },
  {
   "cell_type": "code",
   "execution_count": 43,
   "metadata": {},
   "outputs": [
    {
     "data": {
      "text/plain": [
       "array([0.58798324, 0.64824948, 0.58350223, 0.63598368, 0.50260091,\n",
       "       0.55383974, 0.52803756, 0.54621812, 0.57712503, 0.29372488])"
      ]
     },
     "execution_count": 43,
     "metadata": {},
     "output_type": "execute_result"
    }
   ],
   "source": [
    "cross_val_score(modelo_gradient, X, y, cv=10, )"
   ]
  },
  {
   "cell_type": "code",
   "execution_count": 44,
   "metadata": {},
   "outputs": [
    {
     "data": {
      "text/plain": [
       "0.545649234"
      ]
     },
     "execution_count": 44,
     "metadata": {},
     "output_type": "execute_result"
    }
   ],
   "source": [
    "np.array([0.58789435, 0.64824948, 0.58350223, 0.63599593, 0.50295823,\n",
    "       0.55353074, 0.52839646, 0.54628436, 0.57728171, 0.29239885]).mean()"
   ]
  },
  {
   "cell_type": "code",
   "execution_count": 45,
   "metadata": {},
   "outputs": [
    {
     "data": {
      "text/plain": [
       "array([0.46867452, 0.46976398, 0.42231374, 0.51692784, 0.42736833,\n",
       "       0.44115495, 0.36933885, 0.37876858, 0.46455572, 0.25811714])"
      ]
     },
     "execution_count": 45,
     "metadata": {},
     "output_type": "execute_result"
    }
   ],
   "source": [
    "cross_val_score(modelo_MQO, X, y, cv=10, )"
   ]
  },
  {
   "cell_type": "code",
   "execution_count": 46,
   "metadata": {},
   "outputs": [
    {
     "data": {
      "text/plain": [
       "0.421698365"
      ]
     },
     "execution_count": 46,
     "metadata": {},
     "output_type": "execute_result"
    }
   ],
   "source": [
    "np.array([0.46867452, 0.46976398, 0.42231374, 0.51692784, 0.42736833,\n",
    "       0.44115495, 0.36933885, 0.37876858, 0.46455572, 0.25811714]).mean()"
   ]
  },
  {
   "cell_type": "code",
   "execution_count": 47,
   "metadata": {},
   "outputs": [
    {
     "data": {
      "text/plain": [
       "array([0.52547163, 0.62878661, 0.53063419, 0.59567673, 0.45343734,\n",
       "       0.53767251, 0.43250664, 0.51522626, 0.54411249, 0.20107806])"
      ]
     },
     "execution_count": 47,
     "metadata": {},
     "output_type": "execute_result"
    }
   ],
   "source": [
    "cross_val_score(modelo_RF, X, y, cv=10, )"
   ]
  },
  {
   "cell_type": "code",
   "execution_count": 48,
   "metadata": {},
   "outputs": [
    {
     "data": {
      "text/plain": [
       "0.510737395"
      ]
     },
     "execution_count": 48,
     "metadata": {},
     "output_type": "execute_result"
    }
   ],
   "source": [
    "np.array([0.5617015 , 0.59907474, 0.53666253, 0.60975993, 0.50293805,\n",
    "       0.56611108, 0.44608221, 0.49497528, 0.53507382, 0.25499481]).mean()"
   ]
  },
  {
   "cell_type": "markdown",
   "metadata": {},
   "source": [
    "# 5 - Treinando o Modelo Escolhido"
   ]
  },
  {
   "cell_type": "code",
   "execution_count": 49,
   "metadata": {},
   "outputs": [
    {
     "name": "stdout",
     "output_type": "stream",
     "text": [
      "0.6737391827565984\n",
      "0.5321711399452512\n"
     ]
    }
   ],
   "source": [
    "X = df[numericas].drop(['imdb_score'], axis = 1)\n",
    "Y = df['imdb_score']\n",
    "\n",
    "modelo_final_gradient = GradientBoostingRegressor(max_depth=3).fit(X,Y)\n",
    "\n",
    "print(modelo_gradient.score(X_train, y_train))\n",
    "print(modelo_gradient.score(X_test, y_test))"
   ]
  },
  {
   "cell_type": "markdown",
   "metadata": {},
   "source": [
    "# 6 - Rodar as previsões"
   ]
  },
  {
   "cell_type": "code",
   "execution_count": 50,
   "metadata": {},
   "outputs": [],
   "source": [
    "df_ano16 = pd.read_csv('./Dados/imdb_test.zip')"
   ]
  },
  {
   "cell_type": "code",
   "execution_count": 51,
   "metadata": {},
   "outputs": [
    {
     "data": {
      "text/plain": [
       "29"
      ]
     },
     "execution_count": 51,
     "metadata": {},
     "output_type": "execute_result"
    }
   ],
   "source": [
    "len(list(df_ano16))"
   ]
  },
  {
   "cell_type": "code",
   "execution_count": 52,
   "metadata": {},
   "outputs": [],
   "source": [
    "apagar_real = ['Unnamed: 0', 'plot_keywords'] #identificando colunas que não são necessárias\n",
    "df_ano16  = df_ano16 .drop(apagar_real, axis=1) #apagando essas colunas"
   ]
  },
  {
   "cell_type": "code",
   "execution_count": 53,
   "metadata": {},
   "outputs": [],
   "source": [
    "# criando um dataset apenas com colunas numéricas.\n",
    "\n",
    "df_numeric = df_ano16.select_dtypes(include=[np.number]) \n",
    "numericas = list(df_numeric)"
   ]
  },
  {
   "cell_type": "code",
   "execution_count": 54,
   "metadata": {},
   "outputs": [],
   "source": [
    "#Tratando os nulos\n",
    "\n",
    "df_ano16[numericas] = df_ano16[numericas].fillna(df.mean())"
   ]
  },
  {
   "cell_type": "code",
   "execution_count": 55,
   "metadata": {},
   "outputs": [
    {
     "data": {
      "text/plain": [
       "(106, 27)"
      ]
     },
     "execution_count": 55,
     "metadata": {},
     "output_type": "execute_result"
    }
   ],
   "source": [
    "df_ano16 = df_ano16.fillna('na') # substitui os dados faltantes por 'na'\n",
    "df_ano16 = df_ano16.dropna() \n",
    "df_ano16.shape"
   ]
  },
  {
   "cell_type": "code",
   "execution_count": 56,
   "metadata": {},
   "outputs": [],
   "source": [
    "n_dummies = df_ano16[\"genres\"].str.get_dummies(\"|\") #criando dummies"
   ]
  },
  {
   "cell_type": "code",
   "execution_count": 57,
   "metadata": {},
   "outputs": [
    {
     "data": {
      "text/html": [
       "<div>\n",
       "<style scoped>\n",
       "    .dataframe tbody tr th:only-of-type {\n",
       "        vertical-align: middle;\n",
       "    }\n",
       "\n",
       "    .dataframe tbody tr th {\n",
       "        vertical-align: top;\n",
       "    }\n",
       "\n",
       "    .dataframe thead th {\n",
       "        text-align: right;\n",
       "    }\n",
       "</style>\n",
       "<table border=\"1\" class=\"dataframe\">\n",
       "  <thead>\n",
       "    <tr style=\"text-align: right;\">\n",
       "      <th></th>\n",
       "      <th>color</th>\n",
       "      <th>director_name</th>\n",
       "      <th>num_critic_for_reviews</th>\n",
       "      <th>duration</th>\n",
       "      <th>director_facebook_likes</th>\n",
       "      <th>actor_3_facebook_likes</th>\n",
       "      <th>actor_2_name</th>\n",
       "      <th>actor_1_facebook_likes</th>\n",
       "      <th>gross</th>\n",
       "      <th>genres</th>\n",
       "      <th>...</th>\n",
       "      <th>Horror</th>\n",
       "      <th>Music</th>\n",
       "      <th>Musical</th>\n",
       "      <th>Mystery</th>\n",
       "      <th>Romance</th>\n",
       "      <th>Sci-Fi</th>\n",
       "      <th>Sport</th>\n",
       "      <th>Thriller</th>\n",
       "      <th>War</th>\n",
       "      <th>Western</th>\n",
       "    </tr>\n",
       "  </thead>\n",
       "  <tbody>\n",
       "    <tr>\n",
       "      <th>0</th>\n",
       "      <td>Color</td>\n",
       "      <td>Zack Snyder</td>\n",
       "      <td>673.0</td>\n",
       "      <td>183.0</td>\n",
       "      <td>0.0</td>\n",
       "      <td>2000.0</td>\n",
       "      <td>Lauren Cohan</td>\n",
       "      <td>15000.0</td>\n",
       "      <td>3.30249e+08</td>\n",
       "      <td>Action|Adventure|Sci-Fi</td>\n",
       "      <td>...</td>\n",
       "      <td>0</td>\n",
       "      <td>0</td>\n",
       "      <td>0</td>\n",
       "      <td>0</td>\n",
       "      <td>0</td>\n",
       "      <td>1</td>\n",
       "      <td>0</td>\n",
       "      <td>0</td>\n",
       "      <td>0</td>\n",
       "      <td>0</td>\n",
       "    </tr>\n",
       "    <tr>\n",
       "      <th>1</th>\n",
       "      <td>Color</td>\n",
       "      <td>Anthony Russo</td>\n",
       "      <td>516.0</td>\n",
       "      <td>147.0</td>\n",
       "      <td>94.0</td>\n",
       "      <td>11000.0</td>\n",
       "      <td>Scarlett Johansson</td>\n",
       "      <td>21000.0</td>\n",
       "      <td>4.07197e+08</td>\n",
       "      <td>Action|Adventure|Sci-Fi</td>\n",
       "      <td>...</td>\n",
       "      <td>0</td>\n",
       "      <td>0</td>\n",
       "      <td>0</td>\n",
       "      <td>0</td>\n",
       "      <td>0</td>\n",
       "      <td>1</td>\n",
       "      <td>0</td>\n",
       "      <td>0</td>\n",
       "      <td>0</td>\n",
       "      <td>0</td>\n",
       "    </tr>\n",
       "    <tr>\n",
       "      <th>2</th>\n",
       "      <td>Color</td>\n",
       "      <td>Justin Lin</td>\n",
       "      <td>322.0</td>\n",
       "      <td>122.0</td>\n",
       "      <td>681.0</td>\n",
       "      <td>105.0</td>\n",
       "      <td>Melissa Roxburgh</td>\n",
       "      <td>998.0</td>\n",
       "      <td>1.30469e+08</td>\n",
       "      <td>Action|Adventure|Sci-Fi|Thriller</td>\n",
       "      <td>...</td>\n",
       "      <td>0</td>\n",
       "      <td>0</td>\n",
       "      <td>0</td>\n",
       "      <td>0</td>\n",
       "      <td>0</td>\n",
       "      <td>1</td>\n",
       "      <td>0</td>\n",
       "      <td>1</td>\n",
       "      <td>0</td>\n",
       "      <td>0</td>\n",
       "    </tr>\n",
       "    <tr>\n",
       "      <th>3</th>\n",
       "      <td>Color</td>\n",
       "      <td>David Yates</td>\n",
       "      <td>248.0</td>\n",
       "      <td>110.0</td>\n",
       "      <td>282.0</td>\n",
       "      <td>103.0</td>\n",
       "      <td>Alexander Skarsgård</td>\n",
       "      <td>11000.0</td>\n",
       "      <td>1.24052e+08</td>\n",
       "      <td>Action|Adventure|Drama|Romance</td>\n",
       "      <td>...</td>\n",
       "      <td>0</td>\n",
       "      <td>0</td>\n",
       "      <td>0</td>\n",
       "      <td>0</td>\n",
       "      <td>1</td>\n",
       "      <td>0</td>\n",
       "      <td>0</td>\n",
       "      <td>0</td>\n",
       "      <td>0</td>\n",
       "      <td>0</td>\n",
       "    </tr>\n",
       "    <tr>\n",
       "      <th>4</th>\n",
       "      <td>Color</td>\n",
       "      <td>Bryan Singer</td>\n",
       "      <td>396.0</td>\n",
       "      <td>144.0</td>\n",
       "      <td>0.0</td>\n",
       "      <td>1000.0</td>\n",
       "      <td>Michael Fassbender</td>\n",
       "      <td>34000.0</td>\n",
       "      <td>1.54985e+08</td>\n",
       "      <td>Action|Adventure|Sci-Fi</td>\n",
       "      <td>...</td>\n",
       "      <td>0</td>\n",
       "      <td>0</td>\n",
       "      <td>0</td>\n",
       "      <td>0</td>\n",
       "      <td>0</td>\n",
       "      <td>1</td>\n",
       "      <td>0</td>\n",
       "      <td>0</td>\n",
       "      <td>0</td>\n",
       "      <td>0</td>\n",
       "    </tr>\n",
       "  </tbody>\n",
       "</table>\n",
       "<p>5 rows × 47 columns</p>\n",
       "</div>"
      ],
      "text/plain": [
       "   color  director_name  num_critic_for_reviews  duration  \\\n",
       "0  Color    Zack Snyder                   673.0     183.0   \n",
       "1  Color  Anthony Russo                   516.0     147.0   \n",
       "2  Color     Justin Lin                   322.0     122.0   \n",
       "3  Color    David Yates                   248.0     110.0   \n",
       "4  Color   Bryan Singer                   396.0     144.0   \n",
       "\n",
       "   director_facebook_likes  actor_3_facebook_likes         actor_2_name  \\\n",
       "0                      0.0                  2000.0         Lauren Cohan   \n",
       "1                     94.0                 11000.0   Scarlett Johansson   \n",
       "2                    681.0                   105.0     Melissa Roxburgh   \n",
       "3                    282.0                   103.0  Alexander Skarsgård   \n",
       "4                      0.0                  1000.0   Michael Fassbender   \n",
       "\n",
       "   actor_1_facebook_likes        gross                            genres  \\\n",
       "0                 15000.0  3.30249e+08           Action|Adventure|Sci-Fi   \n",
       "1                 21000.0  4.07197e+08           Action|Adventure|Sci-Fi   \n",
       "2                   998.0  1.30469e+08  Action|Adventure|Sci-Fi|Thriller   \n",
       "3                 11000.0  1.24052e+08    Action|Adventure|Drama|Romance   \n",
       "4                 34000.0  1.54985e+08           Action|Adventure|Sci-Fi   \n",
       "\n",
       "    ...   Horror Music  Musical  Mystery Romance  Sci-Fi Sport  Thriller War  \\\n",
       "0   ...        0     0        0        0       0       1     0         0   0   \n",
       "1   ...        0     0        0        0       0       1     0         0   0   \n",
       "2   ...        0     0        0        0       0       1     0         1   0   \n",
       "3   ...        0     0        0        0       1       0     0         0   0   \n",
       "4   ...        0     0        0        0       0       1     0         0   0   \n",
       "\n",
       "  Western  \n",
       "0       0  \n",
       "1       0  \n",
       "2       0  \n",
       "3       0  \n",
       "4       0  \n",
       "\n",
       "[5 rows x 47 columns]"
      ]
     },
     "execution_count": 57,
     "metadata": {},
     "output_type": "execute_result"
    }
   ],
   "source": [
    "df_ano16 = df_ano16.join(n_dummies)\n",
    "df_ano16.head()"
   ]
  },
  {
   "cell_type": "code",
   "execution_count": 58,
   "metadata": {},
   "outputs": [],
   "source": [
    "#criando algumas colunas que tem no modelo e não tem no arquivo final.\n",
    "df_ano16['Documentary']='0'\n",
    "df_ano16['Film-Noir']='0'\n",
    "df_ano16['Game-Show']='0'\n",
    "df_ano16['Reality-TV']='0'\n",
    "df_ano16['Short']='0'\n",
    "df_ano16['News']='0'"
   ]
  },
  {
   "cell_type": "code",
   "execution_count": 59,
   "metadata": {},
   "outputs": [],
   "source": [
    "X_Real = df_ano16[list(X)] #determinando o X"
   ]
  },
  {
   "cell_type": "code",
   "execution_count": 60,
   "metadata": {},
   "outputs": [],
   "source": [
    "Y_real = df_ano16['imdb_score'] #determinando o Y"
   ]
  },
  {
   "cell_type": "code",
   "execution_count": 61,
   "metadata": {},
   "outputs": [],
   "source": [
    "yhat_real = modelo_final_gradient.predict(X_Real) #"
   ]
  },
  {
   "cell_type": "code",
   "execution_count": 62,
   "metadata": {},
   "outputs": [
    {
     "data": {
      "text/plain": [
       "array([7.04400918, 6.92298653, 5.8494107 , 6.25677256, 6.35557358,\n",
       "       5.93307341, 6.65077052, 5.75414403, 4.73050838, 5.55671513,\n",
       "       5.86883655, 6.25677256, 5.70929315, 6.39129163, 5.62001221,\n",
       "       5.87813588, 4.73050838, 5.57593881, 6.26218349, 5.46217231,\n",
       "       5.58324816, 6.27703366, 5.62745549, 5.67470453, 6.04804827,\n",
       "       6.63613412, 6.16661307, 5.11631082, 7.26580039, 5.61307924,\n",
       "       6.70235336, 6.55200519, 5.63615938, 6.23336605, 6.03522591,\n",
       "       5.44758248, 5.91926362, 5.8311716 , 5.55060138, 6.3388285 ,\n",
       "       5.70929315, 5.61246532, 5.52176701, 6.10039932, 5.24539581,\n",
       "       6.65077052, 6.2277157 , 6.71878385, 5.92155494, 6.71878385,\n",
       "       6.04857736, 6.15394041, 6.74653468, 5.48809292, 6.6504673 ,\n",
       "       5.26872192, 6.32968077, 6.0754462 , 5.6143327 , 6.50303256,\n",
       "       5.56550929, 6.43300491, 4.60342598, 5.41949387, 6.14312278,\n",
       "       5.48809292, 6.0299373 , 5.40668451, 6.2577357 , 5.79855179,\n",
       "       6.440831  , 6.0388974 , 5.9489911 , 5.42501723, 5.11113258,\n",
       "       5.37334758, 5.61009736, 6.10587361, 5.35391966, 6.01157133,\n",
       "       4.93321405, 5.62544882, 5.8724509 , 6.7198938 , 5.0624469 ,\n",
       "       6.8839611 , 5.44500717, 4.92076087, 4.72093422, 7.1387379 ,\n",
       "       4.81027419, 6.0299373 , 5.3797009 , 4.74517163, 5.14126516,\n",
       "       6.10850657, 5.27291008, 5.18273445, 5.70913068, 6.18887855,\n",
       "       6.26129981, 5.20811599, 4.59933256, 5.60746963, 6.44238873,\n",
       "       6.08383926])"
      ]
     },
     "execution_count": 62,
     "metadata": {},
     "output_type": "execute_result"
    }
   ],
   "source": [
    "yhat_real"
   ]
  },
  {
   "cell_type": "code",
   "execution_count": 63,
   "metadata": {},
   "outputs": [
    {
     "data": {
      "text/html": [
       "<div>\n",
       "<style scoped>\n",
       "    .dataframe tbody tr th:only-of-type {\n",
       "        vertical-align: middle;\n",
       "    }\n",
       "\n",
       "    .dataframe tbody tr th {\n",
       "        vertical-align: top;\n",
       "    }\n",
       "\n",
       "    .dataframe thead th {\n",
       "        text-align: right;\n",
       "    }\n",
       "</style>\n",
       "<table border=\"1\" class=\"dataframe\">\n",
       "  <thead>\n",
       "    <tr style=\"text-align: right;\">\n",
       "      <th></th>\n",
       "      <th>color</th>\n",
       "      <th>director_name</th>\n",
       "      <th>num_critic_for_reviews</th>\n",
       "      <th>duration</th>\n",
       "      <th>director_facebook_likes</th>\n",
       "      <th>actor_3_facebook_likes</th>\n",
       "      <th>actor_2_name</th>\n",
       "      <th>actor_1_facebook_likes</th>\n",
       "      <th>gross</th>\n",
       "      <th>genres</th>\n",
       "      <th>...</th>\n",
       "      <th>Thriller</th>\n",
       "      <th>War</th>\n",
       "      <th>Western</th>\n",
       "      <th>Documentary</th>\n",
       "      <th>Film-Noir</th>\n",
       "      <th>Game-Show</th>\n",
       "      <th>Reality-TV</th>\n",
       "      <th>Short</th>\n",
       "      <th>News</th>\n",
       "      <th>novo_score</th>\n",
       "    </tr>\n",
       "  </thead>\n",
       "  <tbody>\n",
       "    <tr>\n",
       "      <th>0</th>\n",
       "      <td>Color</td>\n",
       "      <td>Zack Snyder</td>\n",
       "      <td>673.0</td>\n",
       "      <td>183.0</td>\n",
       "      <td>0.0</td>\n",
       "      <td>2000.0</td>\n",
       "      <td>Lauren Cohan</td>\n",
       "      <td>15000.0</td>\n",
       "      <td>3.30249e+08</td>\n",
       "      <td>Action|Adventure|Sci-Fi</td>\n",
       "      <td>...</td>\n",
       "      <td>0</td>\n",
       "      <td>0</td>\n",
       "      <td>0</td>\n",
       "      <td>0</td>\n",
       "      <td>0</td>\n",
       "      <td>0</td>\n",
       "      <td>0</td>\n",
       "      <td>0</td>\n",
       "      <td>0</td>\n",
       "      <td>7.044009</td>\n",
       "    </tr>\n",
       "    <tr>\n",
       "      <th>1</th>\n",
       "      <td>Color</td>\n",
       "      <td>Anthony Russo</td>\n",
       "      <td>516.0</td>\n",
       "      <td>147.0</td>\n",
       "      <td>94.0</td>\n",
       "      <td>11000.0</td>\n",
       "      <td>Scarlett Johansson</td>\n",
       "      <td>21000.0</td>\n",
       "      <td>4.07197e+08</td>\n",
       "      <td>Action|Adventure|Sci-Fi</td>\n",
       "      <td>...</td>\n",
       "      <td>0</td>\n",
       "      <td>0</td>\n",
       "      <td>0</td>\n",
       "      <td>0</td>\n",
       "      <td>0</td>\n",
       "      <td>0</td>\n",
       "      <td>0</td>\n",
       "      <td>0</td>\n",
       "      <td>0</td>\n",
       "      <td>6.922987</td>\n",
       "    </tr>\n",
       "    <tr>\n",
       "      <th>2</th>\n",
       "      <td>Color</td>\n",
       "      <td>Justin Lin</td>\n",
       "      <td>322.0</td>\n",
       "      <td>122.0</td>\n",
       "      <td>681.0</td>\n",
       "      <td>105.0</td>\n",
       "      <td>Melissa Roxburgh</td>\n",
       "      <td>998.0</td>\n",
       "      <td>1.30469e+08</td>\n",
       "      <td>Action|Adventure|Sci-Fi|Thriller</td>\n",
       "      <td>...</td>\n",
       "      <td>1</td>\n",
       "      <td>0</td>\n",
       "      <td>0</td>\n",
       "      <td>0</td>\n",
       "      <td>0</td>\n",
       "      <td>0</td>\n",
       "      <td>0</td>\n",
       "      <td>0</td>\n",
       "      <td>0</td>\n",
       "      <td>5.849411</td>\n",
       "    </tr>\n",
       "    <tr>\n",
       "      <th>3</th>\n",
       "      <td>Color</td>\n",
       "      <td>David Yates</td>\n",
       "      <td>248.0</td>\n",
       "      <td>110.0</td>\n",
       "      <td>282.0</td>\n",
       "      <td>103.0</td>\n",
       "      <td>Alexander Skarsgård</td>\n",
       "      <td>11000.0</td>\n",
       "      <td>1.24052e+08</td>\n",
       "      <td>Action|Adventure|Drama|Romance</td>\n",
       "      <td>...</td>\n",
       "      <td>0</td>\n",
       "      <td>0</td>\n",
       "      <td>0</td>\n",
       "      <td>0</td>\n",
       "      <td>0</td>\n",
       "      <td>0</td>\n",
       "      <td>0</td>\n",
       "      <td>0</td>\n",
       "      <td>0</td>\n",
       "      <td>6.256773</td>\n",
       "    </tr>\n",
       "    <tr>\n",
       "      <th>4</th>\n",
       "      <td>Color</td>\n",
       "      <td>Bryan Singer</td>\n",
       "      <td>396.0</td>\n",
       "      <td>144.0</td>\n",
       "      <td>0.0</td>\n",
       "      <td>1000.0</td>\n",
       "      <td>Michael Fassbender</td>\n",
       "      <td>34000.0</td>\n",
       "      <td>1.54985e+08</td>\n",
       "      <td>Action|Adventure|Sci-Fi</td>\n",
       "      <td>...</td>\n",
       "      <td>0</td>\n",
       "      <td>0</td>\n",
       "      <td>0</td>\n",
       "      <td>0</td>\n",
       "      <td>0</td>\n",
       "      <td>0</td>\n",
       "      <td>0</td>\n",
       "      <td>0</td>\n",
       "      <td>0</td>\n",
       "      <td>6.355574</td>\n",
       "    </tr>\n",
       "  </tbody>\n",
       "</table>\n",
       "<p>5 rows × 54 columns</p>\n",
       "</div>"
      ],
      "text/plain": [
       "   color  director_name  num_critic_for_reviews  duration  \\\n",
       "0  Color    Zack Snyder                   673.0     183.0   \n",
       "1  Color  Anthony Russo                   516.0     147.0   \n",
       "2  Color     Justin Lin                   322.0     122.0   \n",
       "3  Color    David Yates                   248.0     110.0   \n",
       "4  Color   Bryan Singer                   396.0     144.0   \n",
       "\n",
       "   director_facebook_likes  actor_3_facebook_likes         actor_2_name  \\\n",
       "0                      0.0                  2000.0         Lauren Cohan   \n",
       "1                     94.0                 11000.0   Scarlett Johansson   \n",
       "2                    681.0                   105.0     Melissa Roxburgh   \n",
       "3                    282.0                   103.0  Alexander Skarsgård   \n",
       "4                      0.0                  1000.0   Michael Fassbender   \n",
       "\n",
       "   actor_1_facebook_likes        gross                            genres  \\\n",
       "0                 15000.0  3.30249e+08           Action|Adventure|Sci-Fi   \n",
       "1                 21000.0  4.07197e+08           Action|Adventure|Sci-Fi   \n",
       "2                   998.0  1.30469e+08  Action|Adventure|Sci-Fi|Thriller   \n",
       "3                 11000.0  1.24052e+08    Action|Adventure|Drama|Romance   \n",
       "4                 34000.0  1.54985e+08           Action|Adventure|Sci-Fi   \n",
       "\n",
       "     ...     Thriller War  Western  Documentary Film-Noir  Game-Show  \\\n",
       "0    ...            0   0        0            0         0          0   \n",
       "1    ...            0   0        0            0         0          0   \n",
       "2    ...            1   0        0            0         0          0   \n",
       "3    ...            0   0        0            0         0          0   \n",
       "4    ...            0   0        0            0         0          0   \n",
       "\n",
       "  Reality-TV  Short News novo_score  \n",
       "0          0      0    0   7.044009  \n",
       "1          0      0    0   6.922987  \n",
       "2          0      0    0   5.849411  \n",
       "3          0      0    0   6.256773  \n",
       "4          0      0    0   6.355574  \n",
       "\n",
       "[5 rows x 54 columns]"
      ]
     },
     "execution_count": 63,
     "metadata": {},
     "output_type": "execute_result"
    }
   ],
   "source": [
    "#adicionando a lista resultante como coluna no dataset\n",
    "df_ano16['novo_score'] = yhat_real\n",
    "df_ano16.head()"
   ]
  },
  {
   "cell_type": "code",
   "execution_count": 64,
   "metadata": {},
   "outputs": [],
   "source": [
    "#criando uma coluna da variação entre o novo score e o budget\n",
    "df_ano16['variacao_novoscore_budget'] = (df_ano16['budget']/1000000)/(df_ano16['novo_score'])"
   ]
  },
  {
   "cell_type": "code",
   "execution_count": 65,
   "metadata": {},
   "outputs": [],
   "source": [
    "#criando datframe com o resultado\n",
    "df_resultado = pd.DataFrame(df_ano16, columns=['movie_title','gross', 'genres','budget', 'imdb_score','novo_score', 'variacao_novoscore_budget'])"
   ]
  },
  {
   "cell_type": "markdown",
   "metadata": {},
   "source": [
    "# RESPOSTA  \n",
    "\n",
    "## 10 melhores filmes, de acordo com o conceito do exercício: baixo orçamento e score alto."
   ]
  },
  {
   "cell_type": "code",
   "execution_count": 66,
   "metadata": {},
   "outputs": [
    {
     "data": {
      "text/html": [
       "<div>\n",
       "<style scoped>\n",
       "    .dataframe tbody tr th:only-of-type {\n",
       "        vertical-align: middle;\n",
       "    }\n",
       "\n",
       "    .dataframe tbody tr th {\n",
       "        vertical-align: top;\n",
       "    }\n",
       "\n",
       "    .dataframe thead th {\n",
       "        text-align: right;\n",
       "    }\n",
       "</style>\n",
       "<table border=\"1\" class=\"dataframe\">\n",
       "  <thead>\n",
       "    <tr style=\"text-align: right;\">\n",
       "      <th></th>\n",
       "      <th>movie_title</th>\n",
       "      <th>gross</th>\n",
       "      <th>genres</th>\n",
       "      <th>budget</th>\n",
       "      <th>imdb_score</th>\n",
       "      <th>novo_score</th>\n",
       "      <th>variacao_novoscore_budget</th>\n",
       "    </tr>\n",
       "  </thead>\n",
       "  <tbody>\n",
       "    <tr>\n",
       "      <th>101</th>\n",
       "      <td>Fight to the Finish</td>\n",
       "      <td>na</td>\n",
       "      <td>Action|Romance|Sport</td>\n",
       "      <td>150000.0</td>\n",
       "      <td>4.0</td>\n",
       "      <td>5.208116</td>\n",
       "      <td>0.028801</td>\n",
       "    </tr>\n",
       "    <tr>\n",
       "      <th>104</th>\n",
       "      <td>The Little Ponderosa Zoo</td>\n",
       "      <td>na</td>\n",
       "      <td>Family</td>\n",
       "      <td>500000.0</td>\n",
       "      <td>5.2</td>\n",
       "      <td>6.442389</td>\n",
       "      <td>0.077611</td>\n",
       "    </tr>\n",
       "    <tr>\n",
       "      <th>103</th>\n",
       "      <td>Rodeo Girl</td>\n",
       "      <td>na</td>\n",
       "      <td>Family</td>\n",
       "      <td>500000.0</td>\n",
       "      <td>5.7</td>\n",
       "      <td>5.607470</td>\n",
       "      <td>0.089167</td>\n",
       "    </tr>\n",
       "    <tr>\n",
       "      <th>102</th>\n",
       "      <td>Alleluia! The Devil's Carnival</td>\n",
       "      <td>na</td>\n",
       "      <td>Horror|Musical</td>\n",
       "      <td>500000.0</td>\n",
       "      <td>7.4</td>\n",
       "      <td>4.599333</td>\n",
       "      <td>0.108711</td>\n",
       "    </tr>\n",
       "    <tr>\n",
       "      <th>98</th>\n",
       "      <td>The Dog Lover</td>\n",
       "      <td>na</td>\n",
       "      <td>Drama</td>\n",
       "      <td>2000000.0</td>\n",
       "      <td>4.8</td>\n",
       "      <td>5.709131</td>\n",
       "      <td>0.350316</td>\n",
       "    </tr>\n",
       "    <tr>\n",
       "      <th>89</th>\n",
       "      <td>Airlift</td>\n",
       "      <td>na</td>\n",
       "      <td>Action|Drama|History|Thriller|War</td>\n",
       "      <td>4400000.0</td>\n",
       "      <td>8.5</td>\n",
       "      <td>7.138738</td>\n",
       "      <td>0.616355</td>\n",
       "    </tr>\n",
       "    <tr>\n",
       "      <th>93</th>\n",
       "      <td>Compadres</td>\n",
       "      <td>3.10527e+06</td>\n",
       "      <td>Action|Comedy</td>\n",
       "      <td>3000000.0</td>\n",
       "      <td>5.0</td>\n",
       "      <td>4.745172</td>\n",
       "      <td>0.632222</td>\n",
       "    </tr>\n",
       "    <tr>\n",
       "      <th>92</th>\n",
       "      <td>The Masked Saint</td>\n",
       "      <td>123777</td>\n",
       "      <td>Action|Biography|Crime|Drama|Family|Fantasy</td>\n",
       "      <td>3500000.0</td>\n",
       "      <td>4.7</td>\n",
       "      <td>5.379701</td>\n",
       "      <td>0.650594</td>\n",
       "    </tr>\n",
       "    <tr>\n",
       "      <th>94</th>\n",
       "      <td>Antibirth</td>\n",
       "      <td>na</td>\n",
       "      <td>Horror</td>\n",
       "      <td>3500000.0</td>\n",
       "      <td>6.3</td>\n",
       "      <td>5.141265</td>\n",
       "      <td>0.680766</td>\n",
       "    </tr>\n",
       "    <tr>\n",
       "      <th>99</th>\n",
       "      <td>God's Not Dead 2</td>\n",
       "      <td>2.07731e+07</td>\n",
       "      <td>Drama</td>\n",
       "      <td>5000000.0</td>\n",
       "      <td>3.4</td>\n",
       "      <td>6.188879</td>\n",
       "      <td>0.807901</td>\n",
       "    </tr>\n",
       "  </tbody>\n",
       "</table>\n",
       "</div>"
      ],
      "text/plain": [
       "                         movie_title        gross  \\\n",
       "101             Fight to the Finish            na   \n",
       "104        The Little Ponderosa Zoo            na   \n",
       "103                      Rodeo Girl            na   \n",
       "102  Alleluia! The Devil's Carnival            na   \n",
       "98                    The Dog Lover            na   \n",
       "89                          Airlift            na   \n",
       "93                        Compadres   3.10527e+06   \n",
       "92                 The Masked Saint        123777   \n",
       "94                        Antibirth            na   \n",
       "99                 God's Not Dead 2   2.07731e+07   \n",
       "\n",
       "                                          genres     budget  imdb_score  \\\n",
       "101                         Action|Romance|Sport   150000.0         4.0   \n",
       "104                                       Family   500000.0         5.2   \n",
       "103                                       Family   500000.0         5.7   \n",
       "102                               Horror|Musical   500000.0         7.4   \n",
       "98                                         Drama  2000000.0         4.8   \n",
       "89             Action|Drama|History|Thriller|War  4400000.0         8.5   \n",
       "93                                 Action|Comedy  3000000.0         5.0   \n",
       "92   Action|Biography|Crime|Drama|Family|Fantasy  3500000.0         4.7   \n",
       "94                                        Horror  3500000.0         6.3   \n",
       "99                                         Drama  5000000.0         3.4   \n",
       "\n",
       "     novo_score  variacao_novoscore_budget  \n",
       "101    5.208116                   0.028801  \n",
       "104    6.442389                   0.077611  \n",
       "103    5.607470                   0.089167  \n",
       "102    4.599333                   0.108711  \n",
       "98     5.709131                   0.350316  \n",
       "89     7.138738                   0.616355  \n",
       "93     4.745172                   0.632222  \n",
       "92     5.379701                   0.650594  \n",
       "94     5.141265                   0.680766  \n",
       "99     6.188879                   0.807901  "
      ]
     },
     "execution_count": 66,
     "metadata": {},
     "output_type": "execute_result"
    }
   ],
   "source": [
    "df_resultado.sort_values(by=['variacao_novoscore_budget'], ascending=True).head(10)"
   ]
  },
  {
   "cell_type": "markdown",
   "metadata": {},
   "source": [
    "## Os 10 piores filmes, de acordo com o conceito do exercício: score alto mas orçamento alto."
   ]
  },
  {
   "cell_type": "code",
   "execution_count": 67,
   "metadata": {},
   "outputs": [
    {
     "data": {
      "text/html": [
       "<div>\n",
       "<style scoped>\n",
       "    .dataframe tbody tr th:only-of-type {\n",
       "        vertical-align: middle;\n",
       "    }\n",
       "\n",
       "    .dataframe tbody tr th {\n",
       "        vertical-align: top;\n",
       "    }\n",
       "\n",
       "    .dataframe thead th {\n",
       "        text-align: right;\n",
       "    }\n",
       "</style>\n",
       "<table border=\"1\" class=\"dataframe\">\n",
       "  <thead>\n",
       "    <tr style=\"text-align: right;\">\n",
       "      <th></th>\n",
       "      <th>movie_title</th>\n",
       "      <th>gross</th>\n",
       "      <th>genres</th>\n",
       "      <th>budget</th>\n",
       "      <th>imdb_score</th>\n",
       "      <th>novo_score</th>\n",
       "      <th>variacao_novoscore_budget</th>\n",
       "    </tr>\n",
       "  </thead>\n",
       "  <tbody>\n",
       "    <tr>\n",
       "      <th>1</th>\n",
       "      <td>Captain America: Civil War</td>\n",
       "      <td>4.07197e+08</td>\n",
       "      <td>Action|Adventure|Sci-Fi</td>\n",
       "      <td>250000000.0</td>\n",
       "      <td>8.2</td>\n",
       "      <td>6.922987</td>\n",
       "      <td>36.111583</td>\n",
       "    </tr>\n",
       "    <tr>\n",
       "      <th>0</th>\n",
       "      <td>Batman v Superman: Dawn of Justice</td>\n",
       "      <td>3.30249e+08</td>\n",
       "      <td>Action|Adventure|Sci-Fi</td>\n",
       "      <td>250000000.0</td>\n",
       "      <td>6.9</td>\n",
       "      <td>7.044009</td>\n",
       "      <td>35.491152</td>\n",
       "    </tr>\n",
       "    <tr>\n",
       "      <th>2</th>\n",
       "      <td>Star Trek Beyond</td>\n",
       "      <td>1.30469e+08</td>\n",
       "      <td>Action|Adventure|Sci-Fi|Thriller</td>\n",
       "      <td>185000000.0</td>\n",
       "      <td>7.5</td>\n",
       "      <td>5.849411</td>\n",
       "      <td>31.627118</td>\n",
       "    </tr>\n",
       "    <tr>\n",
       "      <th>9</th>\n",
       "      <td>Alice Through the Looking Glass</td>\n",
       "      <td>7.68466e+07</td>\n",
       "      <td>Adventure|Family|Fantasy</td>\n",
       "      <td>170000000.0</td>\n",
       "      <td>6.4</td>\n",
       "      <td>5.556715</td>\n",
       "      <td>30.593614</td>\n",
       "    </tr>\n",
       "    <tr>\n",
       "      <th>5</th>\n",
       "      <td>Suicide Squad</td>\n",
       "      <td>1.61087e+08</td>\n",
       "      <td>Action|Adventure|Comedy|Sci-Fi</td>\n",
       "      <td>175000000.0</td>\n",
       "      <td>6.9</td>\n",
       "      <td>5.933073</td>\n",
       "      <td>29.495674</td>\n",
       "    </tr>\n",
       "    <tr>\n",
       "      <th>3</th>\n",
       "      <td>The Legend of Tarzan</td>\n",
       "      <td>1.24052e+08</td>\n",
       "      <td>Action|Adventure|Drama|Romance</td>\n",
       "      <td>180000000.0</td>\n",
       "      <td>6.6</td>\n",
       "      <td>6.256773</td>\n",
       "      <td>28.768826</td>\n",
       "    </tr>\n",
       "    <tr>\n",
       "      <th>11</th>\n",
       "      <td>The Legend of Tarzan</td>\n",
       "      <td>1.24052e+08</td>\n",
       "      <td>Action|Adventure|Drama|Romance</td>\n",
       "      <td>180000000.0</td>\n",
       "      <td>6.6</td>\n",
       "      <td>6.256773</td>\n",
       "      <td>28.768826</td>\n",
       "    </tr>\n",
       "    <tr>\n",
       "      <th>7</th>\n",
       "      <td>Independence Day: Resurgence</td>\n",
       "      <td>1.02316e+08</td>\n",
       "      <td>Action|Adventure|Sci-Fi</td>\n",
       "      <td>165000000.0</td>\n",
       "      <td>5.5</td>\n",
       "      <td>5.754144</td>\n",
       "      <td>28.674986</td>\n",
       "    </tr>\n",
       "    <tr>\n",
       "      <th>4</th>\n",
       "      <td>X-Men: Apocalypse</td>\n",
       "      <td>1.54985e+08</td>\n",
       "      <td>Action|Adventure|Sci-Fi</td>\n",
       "      <td>178000000.0</td>\n",
       "      <td>7.3</td>\n",
       "      <td>6.355574</td>\n",
       "      <td>28.006914</td>\n",
       "    </tr>\n",
       "    <tr>\n",
       "      <th>10</th>\n",
       "      <td>Warcraft</td>\n",
       "      <td>4.6979e+07</td>\n",
       "      <td>Action|Adventure|Fantasy</td>\n",
       "      <td>160000000.0</td>\n",
       "      <td>7.3</td>\n",
       "      <td>5.868837</td>\n",
       "      <td>27.262644</td>\n",
       "    </tr>\n",
       "  </tbody>\n",
       "</table>\n",
       "</div>"
      ],
      "text/plain": [
       "                            movie_title        gross  \\\n",
       "1           Captain America: Civil War   4.07197e+08   \n",
       "0   Batman v Superman: Dawn of Justice   3.30249e+08   \n",
       "2                     Star Trek Beyond   1.30469e+08   \n",
       "9      Alice Through the Looking Glass   7.68466e+07   \n",
       "5                        Suicide Squad   1.61087e+08   \n",
       "3                 The Legend of Tarzan   1.24052e+08   \n",
       "11                The Legend of Tarzan   1.24052e+08   \n",
       "7         Independence Day: Resurgence   1.02316e+08   \n",
       "4                    X-Men: Apocalypse   1.54985e+08   \n",
       "10                            Warcraft    4.6979e+07   \n",
       "\n",
       "                              genres       budget  imdb_score  novo_score  \\\n",
       "1            Action|Adventure|Sci-Fi  250000000.0         8.2    6.922987   \n",
       "0            Action|Adventure|Sci-Fi  250000000.0         6.9    7.044009   \n",
       "2   Action|Adventure|Sci-Fi|Thriller  185000000.0         7.5    5.849411   \n",
       "9           Adventure|Family|Fantasy  170000000.0         6.4    5.556715   \n",
       "5     Action|Adventure|Comedy|Sci-Fi  175000000.0         6.9    5.933073   \n",
       "3     Action|Adventure|Drama|Romance  180000000.0         6.6    6.256773   \n",
       "11    Action|Adventure|Drama|Romance  180000000.0         6.6    6.256773   \n",
       "7            Action|Adventure|Sci-Fi  165000000.0         5.5    5.754144   \n",
       "4            Action|Adventure|Sci-Fi  178000000.0         7.3    6.355574   \n",
       "10          Action|Adventure|Fantasy  160000000.0         7.3    5.868837   \n",
       "\n",
       "    variacao_novoscore_budget  \n",
       "1                   36.111583  \n",
       "0                   35.491152  \n",
       "2                   31.627118  \n",
       "9                   30.593614  \n",
       "5                   29.495674  \n",
       "3                   28.768826  \n",
       "11                  28.768826  \n",
       "7                   28.674986  \n",
       "4                   28.006914  \n",
       "10                  27.262644  "
      ]
     },
     "execution_count": 67,
     "metadata": {},
     "output_type": "execute_result"
    }
   ],
   "source": [
    "df_resultado.sort_values(by=['variacao_novoscore_budget'], ascending=False).head(10)"
   ]
  },
  {
   "cell_type": "code",
   "execution_count": null,
   "metadata": {},
   "outputs": [],
   "source": []
  }
 ],
 "metadata": {
  "kernelspec": {
   "display_name": "Python 3",
   "language": "python",
   "name": "python3"
  },
  "language_info": {
   "codemirror_mode": {
    "name": "ipython",
    "version": 3
   },
   "file_extension": ".py",
   "mimetype": "text/x-python",
   "name": "python",
   "nbconvert_exporter": "python",
   "pygments_lexer": "ipython3",
   "version": "3.7.1"
  }
 },
 "nbformat": 4,
 "nbformat_minor": 2
}
