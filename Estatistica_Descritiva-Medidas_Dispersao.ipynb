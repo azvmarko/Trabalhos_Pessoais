{
 "cells": [
  {
   "cell_type": "markdown",
   "metadata": {},
   "source": [
    "# Estatística Descritiva"
   ]
  },
  {
   "cell_type": "markdown",
   "metadata": {},
   "source": [
    "### Tem por objetivos organizar e sumarizar os dados. São aplicadas varias técnicas para sumarizar e entender esses dados.\n",
    "\n",
    "Medidas usadas para descrever um conjunto de dados:\n",
    "\n",
    "    Medidas de Tendência Central:\n",
    "        Média\n",
    "        Moda\n",
    "        Mediana\n",
    "    \n",
    "    Medidas de Dispersão (ou Variabilidade):\n",
    "        Desvio Padrão\n",
    "        Variância\n",
    "        Valor Máximo\n",
    "        Valor Mínimo\n",
    "        Obliquidade\n",
    "        Curtose\n",
    "        \n",
    "    Medidas de Associação:\n",
    "        Correlação\n",
    "        Covariância\n",
    "        \n",
    "A estatística descritiva, tanto para amostras quanto para as observações colhidas, fornece uma descrição inicial dos dados, que pode ser de forma quantitiva ou visual. Essa descrição, por sí só, pode ser suficiente para o entendimento desses dados ou levar para uma análise estatística mais acurada e complexa."
   ]
  },
  {
   "cell_type": "markdown",
   "metadata": {},
   "source": [
    "## Medidas de Dispersão\n",
    "\n",
    "<br>\n",
    "<img src=\"img/medidas_dispersao.png\">\n",
    "<br>\n",
    "*fonte imagem: Wikipedia*"
   ]
  },
  {
   "cell_type": "markdown",
   "metadata": {},
   "source": [
    "### Principais:\n",
    "\n",
    ">Desvio Padrão: medida de dispersão em torno da média populacional de uma variável aleatória. Um baixo desvio padrão indica que os dados estão poucos dispersos e tendem a ser próximos da média ou de um valor esperado. Um alto desvio padrão, ao contrário, mostra que os dados estão bastante dispersos. São considerados estatisitcamente significados os valores que estejam mais de dois desvios padrões do esperado.\n",
    "O desvio padrão é o valor obtido menos a média, elevado ao quadrao.\n",
    "\n",
    "<br>\n",
    "<img src=\"img/despad.png\" width='500'>\n",
    "<br>\n",
    "*fonte imagem: Wikipedia*\n",
    "\n",
    "\n",
    ">Variância: indica o quão longe um valor está distante de um valor esperado. \n",
    "A variância é o quadrado do desvio padrão.\n",
    "\n",
    "<br>\n",
    "<img src=\"img/variancia.png\" width='500'>\n",
    "<br>\n",
    "*fonte imagem: Wikipedia*\n"
   ]
  },
  {
   "cell_type": "markdown",
   "metadata": {},
   "source": [
    "# Prática"
   ]
  },
  {
   "cell_type": "code",
   "execution_count": 29,
   "metadata": {},
   "outputs": [
    {
     "name": "stdout",
     "output_type": "stream",
     "text": [
      "Wall time: 0 ns\n"
     ]
    }
   ],
   "source": [
    "### Importando um arquivo exemplo com dados de idade, anos de estudo e salário\n",
    "time\n",
    "\n",
    "import csv \n",
    "lista_com_salarios = []\n",
    "lista_com_idades = list()\n",
    "\n",
    "with open(r'data/data.csv', 'r') as data_csv:\n",
    "    data = csv.reader(data_csv)\n",
    "\n",
    "    for i, line in enumerate(data):\n",
    "        if i>0:\n",
    "            try:\n",
    "                lista_com_idades.append(float(line[2]))\n",
    "            except:\n",
    "                pass\n",
    "            \n",
    "            try:\n",
    "                lista_com_salarios.append(float(line[6]))\n",
    "            except:\n",
    "                pass"
   ]
  },
  {
   "cell_type": "markdown",
   "metadata": {},
   "source": [
    "## Analisando dados em relação aos salários e às idades."
   ]
  },
  {
   "cell_type": "code",
   "execution_count": 33,
   "metadata": {},
   "outputs": [
    {
     "name": "stdout",
     "output_type": "stream",
     "text": [
      "Lista com idades:  66470\n",
      "Lista com salários:  47878\n"
     ]
    }
   ],
   "source": [
    "print(\"Lista com idades: \", len(lista_com_idades))\n",
    "print(\"Lista com salários: \", len(lista_com_salarios))"
   ]
  },
  {
   "cell_type": "markdown",
   "metadata": {},
   "source": [
    "## Construção de uma função para calcular a variância e o desvio padrão.\n",
    "\n",
    "Fórmula:\n",
    "\n",
    "$$ \\sigma{_x}^{2} = \\frac{1}{N}\\sum\\limits_{i = 1}^N {\\left( {x_i - \\bar x} \\right)^2 }  $$"
   ]
  },
  {
   "cell_type": "code",
   "execution_count": 35,
   "metadata": {},
   "outputs": [],
   "source": [
    "def variancia_e_desvio(lista_valores):\n",
    "\n",
    "    import math\n",
    "    \n",
    "    media = 0\n",
    "    soma = 0\n",
    "    \n",
    "    \n",
    "    for i in lista_valores:\n",
    "        \n",
    "        soma += i\n",
    "        \n",
    "    media = soma/len(lista_valores)\n",
    "    \n",
    "    print('Média=', media)\n",
    "    SQT = 0\n",
    "    \n",
    "    for n in lista_valores:\n",
    "        SQT += (n-media)**2\n",
    "    \n",
    "    print('SQT=', SQT)\n",
    "    \n",
    "    variancia = SQT/len(lista_valores)\n",
    "    desvio_padrao = math.sqrt(variancia)\n",
    "    \n",
    "    return (variancia, desvio_padrao)\n"
   ]
  },
  {
   "cell_type": "markdown",
   "metadata": {},
   "source": [
    "### Aplicando a função na lista de salários:"
   ]
  },
  {
   "cell_type": "code",
   "execution_count": 38,
   "metadata": {},
   "outputs": [
    {
     "name": "stdout",
     "output_type": "stream",
     "text": [
      "Média= 19706.790323432902\n",
      "SQT= 376066147518181.8\n"
     ]
    },
    {
     "data": {
      "text/plain": [
       "(7854675373.202344, 88626.60646330957)"
      ]
     },
     "execution_count": 38,
     "metadata": {},
     "output_type": "execute_result"
    }
   ],
   "source": [
    "calcula_salarios = variancia_e_desvio(lista_com_salarios)\n",
    "calcula_salarios # informa a variância e o desvio padrão"
   ]
  },
  {
   "cell_type": "markdown",
   "metadata": {},
   "source": [
    "### Aplicando a função na lista de idades:"
   ]
  },
  {
   "cell_type": "code",
   "execution_count": 39,
   "metadata": {},
   "outputs": [
    {
     "name": "stdout",
     "output_type": "stream",
     "text": [
      "Média= 37.6348126974575\n",
      "SQT= 8608267.4434146\n"
     ]
    },
    {
     "data": {
      "text/plain": [
       "(129.5060545120295, 11.380072693617976)"
      ]
     },
     "execution_count": 39,
     "metadata": {},
     "output_type": "execute_result"
    }
   ],
   "source": [
    "calcula_idades = variancia_e_desvio(lista_com_idades)\n",
    "calcula_idades # informa a variância e o desvio padrão"
   ]
  },
  {
   "cell_type": "markdown",
   "metadata": {},
   "source": [
    "### Plotando gráficos com os resultados obtidos:"
   ]
  },
  {
   "cell_type": "markdown",
   "metadata": {},
   "source": [
    "#### Histograma de Salários:"
   ]
  },
  {
   "cell_type": "code",
   "execution_count": 56,
   "metadata": {},
   "outputs": [],
   "source": [
    "import matplotlib.pyplot as plt"
   ]
  },
  {
   "cell_type": "code",
   "execution_count": 57,
   "metadata": {},
   "outputs": [
    {
     "data": {
      "image/png": "[encoded data removed]",
      "text/plain": [
       "<Figure size 432x288 with 1 Axes>"
      ]
     },
     "metadata": {
      "needs_background": "light"
     },
     "output_type": "display_data"
    }
   ],
   "source": [
    "plt.hist(lista_com_salarios, bins=100, range=(-100, 75000))\n",
    "plt.show()"
   ]
  },
  {
   "cell_type": "markdown",
   "metadata": {},
   "source": [
    "#### Histograma de idades:"
   ]
  },
  {
   "cell_type": "code",
   "execution_count": 61,
   "metadata": {},
   "outputs": [
    {
     "data": {
      "image/png": "[encoded data removed]",
      "text/plain": [
       "<Figure size 432x288 with 1 Axes>"
      ]
     },
     "metadata": {
      "needs_background": "light"
     },
     "output_type": "display_data"
    }
   ],
   "source": [
    "plt.hist(lista_com_idades, bins=50, range=(15,65))\n",
    "plt.show()"
   ]
  },
  {
   "cell_type": "markdown",
   "metadata": {},
   "source": [
    "### Podemos continuar a análise deste dataset, calculando esses indicadores para a variável anos de estudo"
   ]
  },
  {
   "cell_type": "code",
   "execution_count": 65,
   "metadata": {},
   "outputs": [
    {
     "name": "stdout",
     "output_type": "stream",
     "text": [
      "Wall time: 0 ns\n"
     ]
    }
   ],
   "source": [
    "%time\n",
    "\n",
    "import csv \n",
    "lista_anos_estudo = []\n",
    "\n",
    "with open(r'data/data.csv', 'r') as data_csv:\n",
    "    data = csv.reader(data_csv)\n",
    "\n",
    "    for i, line in enumerate(data):\n",
    "        if i>0:\n",
    "            try:\n",
    "                lista_anos_estudo.append(float(line[4]))\n",
    "            except:\n",
    "                pass"
   ]
  },
  {
   "cell_type": "code",
   "execution_count": 67,
   "metadata": {},
   "outputs": [
    {
     "name": "stdout",
     "output_type": "stream",
     "text": [
      "Média= 8.686065176570356\n",
      "SQT= 751966.8171758754\n"
     ]
    },
    {
     "data": {
      "text/plain": [
       "(11.38722541001689, 3.3744963194552295)"
      ]
     },
     "execution_count": 67,
     "metadata": {},
     "output_type": "execute_result"
    }
   ],
   "source": [
    "variancia_e_desvio(lista_anos_estudo)"
   ]
  },
  {
   "cell_type": "code",
   "execution_count": 68,
   "metadata": {},
   "outputs": [
    {
     "data": {
      "image/png": "[encoded data removed]",
      "text/plain": [
       "<Figure size 432x288 with 1 Axes>"
      ]
     },
     "metadata": {
      "needs_background": "light"
     },
     "output_type": "display_data"
    }
   ],
   "source": [
    "plt.hist(lista_anos_estudo,bins = 10, range=(4,16))\n",
    "plt.show()"
   ]
  },
  {
   "cell_type": "code",
   "execution_count": null,
   "metadata": {},
   "outputs": [],
   "source": []
  },
  {
   "cell_type": "code",
   "execution_count": null,
   "metadata": {},
   "outputs": [],
   "source": []
  },
  {
   "cell_type": "code",
   "execution_count": null,
   "metadata": {},
   "outputs": [],
   "source": []
  },
  {
   "cell_type": "code",
   "execution_count": null,
   "metadata": {},
   "outputs": [],
   "source": []
  }
 ],
 "metadata": {
  "kernelspec": {
   "display_name": "Python 3",
   "language": "python",
   "name": "python3"
  },
  "language_info": {
   "codemirror_mode": {
    "name": "ipython",
    "version": 3
   },
   "file_extension": ".py",
   "mimetype": "text/x-python",
   "name": "python",
   "nbconvert_exporter": "python",
   "pygments_lexer": "ipython3",
   "version": "3.7.1"
  }
 },
 "nbformat": 4,
 "nbformat_minor": 2
}
